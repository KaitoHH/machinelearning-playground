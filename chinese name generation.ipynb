{
 "cells": [
  {
   "cell_type": "code",
   "execution_count": 1,
   "metadata": {},
   "outputs": [
    {
     "name": "stderr",
     "output_type": "stream",
     "text": [
      "C:\\Users\\I342070\\AppData\\Local\\Continuum\\anaconda3\\envs\\tensorflow\\lib\\site-packages\\h5py\\__init__.py:36: FutureWarning: Conversion of the second argument of issubdtype from `float` to `np.floating` is deprecated. In future, it will be treated as `np.float64 == np.dtype(float).type`.\n",
      "  from ._conv import register_converters as _register_converters\n",
      "Using TensorFlow backend.\n"
     ]
    }
   ],
   "source": [
    "import keras as ks\n",
    "from keras.models import Sequential, Model\n",
    "from keras.layers import Input, SimpleRNN, Activation, LSTM, Reshape, Lambda, Dense\n",
    "from keras.preprocessing import sequence\n",
    "import numpy as np"
   ]
  },
  {
   "cell_type": "code",
   "execution_count": 2,
   "metadata": {},
   "outputs": [
    {
     "name": "stdout",
     "output_type": "stream",
     "text": [
      "unique characters: len = 3781\n"
     ]
    }
   ],
   "source": [
    "filepath = 'data/chi_names.txt'\n",
    "data = open(filepath, encoding='utf-8').read().lower()\n",
    "uniq = set(data)\n",
    "ndim = len(uniq)\n",
    "print('unique characters: len =', ndim)"
   ]
  },
  {
   "cell_type": "code",
   "execution_count": 3,
   "metadata": {},
   "outputs": [],
   "source": [
    "ch2idx = {word: idx for idx, word in enumerate(uniq)}\n",
    "idx2ch = {idx: word for idx, word in enumerate(uniq)}"
   ]
  },
  {
   "cell_type": "code",
   "execution_count": 4,
   "metadata": {},
   "outputs": [],
   "source": [
    "def make_onehot(array):\n",
    "    return np.eye(ndim)[array]"
   ]
  },
  {
   "cell_type": "code",
   "execution_count": 5,
   "metadata": {},
   "outputs": [],
   "source": [
    "def word2arr(name):\n",
    "    arr = np.zeros((len(name), ndim))\n",
    "    for i, ch in enumerate(name):\n",
    "        arr[i] = make_onehot(ch2idx[ch]) \n",
    "    return arr\n",
    "\n",
    "\n",
    "def arr2word(arr, showProb=False):\n",
    "    name = ''\n",
    "    prob = 1\n",
    "    for vec in arr:\n",
    "        ch = np.random.choice(ndim, p=vec)\n",
    "        if showProb:\n",
    "            print(vec[ch])\n",
    "        prob *= vec[ch]\n",
    "        name += idx2ch[ch]\n",
    "    return name, prob"
   ]
  },
  {
   "cell_type": "code",
   "execution_count": 6,
   "metadata": {},
   "outputs": [
    {
     "name": "stdout",
     "output_type": "stream",
     "text": [
      "_________________________________________________________________\n",
      "Layer (type)                 Output Shape              Param #   \n",
      "=================================================================\n",
      "x (InputLayer)               (None, None, 3781)        0         \n",
      "_________________________________________________________________\n",
      "simple_rnn_1 (SimpleRNN)     (None, None, 128)         500480    \n",
      "_________________________________________________________________\n",
      "dense_1 (Dense)              (None, None, 3781)        487749    \n",
      "=================================================================\n",
      "Total params: 988,229\n",
      "Trainable params: 988,229\n",
      "Non-trainable params: 0\n",
      "_________________________________________________________________\n"
     ]
    }
   ],
   "source": [
    "hidden = 128\n",
    "rnn_cell = SimpleRNN(hidden, return_sequences=True)\n",
    "\n",
    "x = Input(shape=(None, ndim), name='x')\n",
    "out = rnn_cell(x)\n",
    "out = Dense(ndim, activation='softmax')(out)\n",
    "\n",
    "model = Model(x, out)\n",
    "model.summary()"
   ]
  },
  {
   "cell_type": "code",
   "execution_count": 7,
   "metadata": {},
   "outputs": [],
   "source": [
    "model.compile(optimizer='rmsprop',\n",
    "              loss='categorical_crossentropy')"
   ]
  },
  {
   "cell_type": "markdown",
   "metadata": {},
   "source": [
    "## Training model"
   ]
  },
  {
   "cell_type": "code",
   "execution_count": 8,
   "metadata": {
    "scrolled": true
   },
   "outputs": [
    {
     "name": "stderr",
     "output_type": "stream",
     "text": [
      "100% (86893 of 86893) |###################| Elapsed Time: 0:13:46 ETA:  0:00:00"
     ]
    }
   ],
   "source": [
    "from itertools import groupby\n",
    "from random import shuffle\n",
    "import progressbar\n",
    "lines = open(filepath, encoding='utf-8').readlines()\n",
    "shuffle(lines)\n",
    "\n",
    "counter = 0\n",
    "bar = progressbar.ProgressBar(max_value=len(lines))\n",
    "for length, chunks in groupby(lines, key=len):\n",
    "    chk = list(chunks)\n",
    "    arr = np.zeros((len(chk), length, ndim), dtype=bool)\n",
    "    counter += len(chk)\n",
    "    for i, name in enumerate(chk):\n",
    "        for j, ch in enumerate(name):\n",
    "            arr[i, j, ch2idx[ch]] = 1\n",
    "    x = arr[:, :-1]\n",
    "    y = arr[:, 1:]\n",
    "    model.fit(x, y, batch_size=128, verbose=0)\n",
    "    bar.update(counter)"
   ]
  },
  {
   "cell_type": "markdown",
   "metadata": {},
   "source": [
    "*Here is a ineffecient fit way with batch size = 1 using fit_generator*\n",
    "```python\n",
    "lines = open(filepath, encoding='utf-8').readlines()\n",
    "def lines_generator():\n",
    "    while True:\n",
    "        looper = map(word2arr, [x.lower() for x in lines])\n",
    "        for arr in looper:\n",
    "            x = arr[:-1].reshape(1, arr.shape[0]-1, arr.shape[1])\n",
    "            y = arr[1:].reshape(1, arr.shape[0]-1, arr.shape[1])\n",
    "            yield (x, y)\n",
    "```\n",
    "\n",
    "```\n",
    "model.fit_generator(generator=lines_generator(), steps_per_epoch=1000, epochs=1)\n",
    "```"
   ]
  },
  {
   "cell_type": "code",
   "execution_count": 9,
   "metadata": {},
   "outputs": [],
   "source": [
    "model.save('model/chi_name.h5')\n",
    "del model"
   ]
  },
  {
   "cell_type": "markdown",
   "metadata": {},
   "source": [
    "## Load model and sampling"
   ]
  },
  {
   "cell_type": "code",
   "execution_count": 10,
   "metadata": {},
   "outputs": [],
   "source": [
    "from keras.models import load_model\n",
    "model = load_model('model/chi_name.h5')"
   ]
  },
  {
   "cell_type": "code",
   "execution_count": 11,
   "metadata": {},
   "outputs": [],
   "source": [
    "def sample(first_name):\n",
    "    name = first_name\n",
    "    last_prob = 1\n",
    "    for i in range(1, 10):\n",
    "        next = word2arr(name)\n",
    "        next = model.predict(next.reshape(1, i, ndim))\n",
    "        ch, prob = arr2word(next.reshape(i, ndim)[-1].reshape(1, ndim))\n",
    "        if ch[0] is '\\n':\n",
    "            break\n",
    "        name += ch[0]\n",
    "        last_prob = prob\n",
    "    return name, last_prob"
   ]
  },
  {
   "cell_type": "code",
   "execution_count": 13,
   "metadata": {},
   "outputs": [
    {
     "name": "stdout",
     "output_type": "stream",
     "text": [
      "('张兆文', 0.014937767758965492)\n",
      "('张璋', 0.00011286656081210822)\n",
      "('张威毅', 0.0006412349175661802)\n",
      "('张义石', 0.00030982488533481956)\n",
      "('张肖力', 0.0014862999087199569)\n",
      "('张晓娃', 9.306262654718012e-05)\n",
      "('张长显', 0.0008578095003031194)\n",
      "('张正鸿', 0.0013419606257230043)\n",
      "('张霞', 0.002493421547114849)\n",
      "('张良', 0.0033084985334426165)\n",
      "('王惠建', 0.006828772369772196)\n",
      "('王中雪', 0.003974865190684795)\n",
      "('王', 1)\n",
      "('王玉蓉', 0.002176048466935754)\n",
      "('王育利', 0.0036887871101498604)\n",
      "('王子兴', 0.0032367785461246967)\n",
      "('王正', 0.004068646114319563)\n",
      "('王启弛', 1.24761254483019e-05)\n",
      "('王迪群', 0.0015167791862040758)\n",
      "('王金菲', 0.0005232281400822103)\n",
      "('赵吉文', 0.019701942801475525)\n",
      "('赵庭相', 0.000520802685059607)\n",
      "('赵霖', 0.0003490494564175606)\n",
      "('赵兴江', 0.0038434681482613087)\n",
      "('赵丽', 0.004908709786832333)\n",
      "('赵商跃', 0.0016150326700881124)\n",
      "('赵海栋', 0.0013796888524666429)\n",
      "('赵一君', 0.0029013724997639656)\n",
      "('赵锦松', 0.003136803163215518)\n",
      "('赵树耀', 0.0015497293788939714)\n",
      "('钱静', 0.0043167914263904095)\n",
      "('钱静', 0.0043167914263904095)\n",
      "('钱建战', 0.00017651547386776656)\n",
      "('钱振燕', 0.003934816922992468)\n",
      "('钱加', 0.0010315491817891598)\n",
      "('钱英', 0.0038665104657411575)\n",
      "('钱', 1)\n",
      "('钱禧因校', 3.860506694763899e-06)\n",
      "('钱正文', 0.018237994983792305)\n",
      "('钱志', 0.010949374176561832)\n",
      "('孙金钮', 1.0949946045002434e-05)\n",
      "('孙钰', 0.0011062220437452197)\n",
      "('孙宜阳', 0.0031102632638067007)\n",
      "('孙平学', 0.0016810620436444879)\n",
      "('孙炎', 0.0002649801899679005)\n",
      "('孙永福', 0.002102144295349717)\n",
      "('孙舂年', 0.0003002047596964985)\n",
      "('孙国宇', 0.004973043221980333)\n",
      "('孙卿若', 0.0002261434419779107)\n",
      "('孙业金', 0.004385015461593866)\n",
      "('李荣雄', 0.0007531110313721001)\n",
      "('李春省', 6.914032564964145e-05)\n",
      "('李开来', 0.001761846011504531)\n",
      "('李文旭', 0.003733578370884061)\n",
      "('李劵善', 0.0017677085706964135)\n",
      "('李', 1)\n",
      "('李文雏', 1.4090726836002432e-05)\n",
      "('李光翔', 0.003092649159952998)\n",
      "('李宇', 0.0033453868236392736)\n",
      "('李锋莲', 0.0004912103177048266)\n",
      "('黄花', 0.0007643105927854776)\n",
      "('黄全宗', 0.0015832151984795928)\n",
      "('黄钦正', 0.0027256477624177933)\n",
      "('黄婷', 0.0010012941202148795)\n",
      "('黄瑞慧', 0.0034844500478357077)\n",
      "('黄运', 0.001219821278937161)\n",
      "('黄', 1)\n",
      "('黄泽绦', 1.337296544079436e-05)\n",
      "('黄钒华', 0.004422234836965799)\n",
      "('黄冬春乃稳', 7.87048484198749e-05)\n",
      "('周冰汉', 0.0008125404128804803)\n",
      "('周琪', 0.0005289946566335857)\n",
      "('周宏玉', 0.006988705601543188)\n",
      "('周克莉', 0.0016152531607076526)\n",
      "('周昌礴', 1.3887865861761384e-05)\n",
      "('周丽政', 0.0008219436276704073)\n",
      "('周喜明', 0.006387139204889536)\n",
      "('周彬', 0.001615501823835075)\n",
      "('周滨', 0.000548706972040236)\n",
      "('周林羊', 1.5208370314212516e-05)\n",
      "('杨', 1)\n",
      "('杨玉生', 0.005494574550539255)\n",
      "('杨晓洺', 9.289027730119415e-06)\n",
      "('杨丽旭', 0.0024143941700458527)\n",
      "('杨君', 0.0024842454586178064)\n",
      "('杨日宪', 0.0007421254995279014)\n",
      "('杨玉金', 0.006146757397800684)\n",
      "('杨长鳌', 1.171331950899912e-05)\n",
      "('杨金兴', 0.0029966060537844896)\n",
      "('杨长方', 0.001719312509521842)\n",
      "('何永燕', 0.003736883169040084)\n",
      "('何钟守', 0.0014938157983124256)\n",
      "('何景学', 0.0034608719870448112)\n",
      "('何文晓', 0.008213615044951439)\n",
      "('何苏怡', 0.001158963656052947)\n",
      "('何建', 0.009556070901453495)\n",
      "('何彦俊', 0.004565746057778597)\n",
      "('何克娥', 0.0010068475967273116)\n",
      "('何守夏', 0.0006146238883957267)\n",
      "('何民', 0.0019351837690919638)\n"
     ]
    }
   ],
   "source": [
    "first_name = ['张', '王', '赵', '钱', '孙', '李', '黄', '周', '杨', '何']\n",
    "for name in first_name:\n",
    "    for _ in range(10):\n",
    "        print(sample(name))"
   ]
  }
 ],
 "metadata": {
  "kernelspec": {
   "display_name": "Python 3",
   "language": "python",
   "name": "python3"
  },
  "language_info": {
   "codemirror_mode": {
    "name": "ipython",
    "version": 3
   },
   "file_extension": ".py",
   "mimetype": "text/x-python",
   "name": "python",
   "nbconvert_exporter": "python",
   "pygments_lexer": "ipython3",
   "version": "3.6.4"
  }
 },
 "nbformat": 4,
 "nbformat_minor": 2
}
