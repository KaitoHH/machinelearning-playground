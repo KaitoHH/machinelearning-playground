{
 "cells": [
  {
   "cell_type": "code",
   "execution_count": 1,
   "metadata": {},
   "outputs": [
    {
     "name": "stderr",
     "output_type": "stream",
     "text": [
      "c:\\users\\katiohh\\anaconda3\\envs\\ml\\lib\\site-packages\\h5py\\__init__.py:36: FutureWarning: Conversion of the second argument of issubdtype from `float` to `np.floating` is deprecated. In future, it will be treated as `np.float64 == np.dtype(float).type`.\n",
      "  from ._conv import register_converters as _register_converters\n",
      "Using TensorFlow backend.\n"
     ]
    }
   ],
   "source": [
    "import pickle\n",
    "import keras as ks\n",
    "import numpy as np\n",
    "import tensorflow as tf\n",
    "from keras.layers import Embedding, Bidirectional, LSTM, Dense\n",
    "from keras.models import Sequential\n",
    "from keras.preprocessing.sequence import pad_sequences\n",
    "from keras_contrib.layers import CRF\n",
    "from keras_contrib.utils import save_load_utils"
   ]
  },
  {
   "cell_type": "code",
   "execution_count": 2,
   "metadata": {},
   "outputs": [],
   "source": [
    "VOCAB_SIZE = 4529\n",
    "MAX_TEXT_LENGTH = 581\n",
    "\n",
    "\n",
    "def ner_model():\n",
    "    model = Sequential()\n",
    "    model.add(\n",
    "        Embedding(\n",
    "            input_dim=VOCAB_SIZE,\n",
    "            output_dim=64,\n",
    "            input_length=MAX_TEXT_LENGTH,\n",
    "            trainable=False,\n",
    "            mask_zero=True))\n",
    "    model.add(\n",
    "        Bidirectional(LSTM(64, return_sequences=True, recurrent_dropout=0.5)))\n",
    "    model.add(\n",
    "        Bidirectional(LSTM(64, return_sequences=True, recurrent_dropout=0.5)))\n",
    "    model.add(\n",
    "        Bidirectional(LSTM(64, return_sequences=True, recurrent_dropout=0.5)))\n",
    "    model.add(Dense(7))\n",
    "    crf = CRF(7)\n",
    "    model.add(crf)\n",
    "    model.compile(\n",
    "        optimizer=ks.optimizers.Adadelta(),\n",
    "        loss=crf.loss_function,\n",
    "        metrics=[crf.accuracy])\n",
    "    return model\n",
    "\n",
    "\n",
    "def load_obj(filename):\n",
    "    with open(filename, 'rb') as f:\n",
    "        return pickle.load(f)\n",
    "\n",
    "\n",
    "def test_sentences(sentences, model, word_tokenizer, index_pos):\n",
    "    vec = word_tokenizer.texts_to_sequences([sentences])\n",
    "    vec = pad_sequences(vec, MAX_TEXT_LENGTH)\n",
    "    ret = model.predict([vec])[0][-len(sentences):]\n",
    "    ret = np.argmax(ret, axis=1) + 1\n",
    "    return [index_pos[x] for x in ret]\n",
    "\n",
    "\n",
    "def pretty_ner(sentences, ner_ret):\n",
    "    for x, y in zip(sentences, ner_ret):\n",
    "        print(x, y)\n",
    "\n",
    "\n",
    "def init():\n",
    "    model = ner_model()\n",
    "    word_tokenizer = load_obj('model/word_tokenizer.pickle')\n",
    "    index_pos = load_obj('model/index_pos.pickle')\n",
    "    save_load_utils.load_all_weights(\n",
    "        model, r'model/ner_stacked_lstm_weights.h5', include_optimizer=False)\n",
    "    return model, word_tokenizer, index_pos\n",
    "\n",
    "\n",
    "def split(line, n):\n",
    "    return [line[i:i + n] for i in range(0, len(line), n)]\n",
    "\n",
    "\n",
    "def output(sentences, ner_ret, width=20):\n",
    "    ss = split(sentences, width)\n",
    "    rs = split(ner_ret, width)\n",
    "    for i, s in enumerate(ss):\n",
    "        print('    '.join(ss[i]))\n",
    "        for item in rs[i]:\n",
    "            print('{:6}'.format(item), end='')\n",
    "        print('\\n')"
   ]
  },
  {
   "cell_type": "code",
   "execution_count": 11,
   "metadata": {},
   "outputs": [],
   "source": [
    "gpu_options = tf.GPUOptions(per_process_gpu_memory_fraction=0.7)\n",
    "sess = tf.Session(config=tf.ConfigProto(gpu_options=gpu_options))\n",
    "ks.backend.set_session(sess)"
   ]
  },
  {
   "cell_type": "code",
   "execution_count": 3,
   "metadata": {},
   "outputs": [],
   "source": [
    "with tf.device(\"/cpu:0\"):\n",
    "    _model, _word_tokenizer, _index_pos = init()"
   ]
  },
  {
   "cell_type": "code",
   "execution_count": 4,
   "metadata": {},
   "outputs": [
    {
     "name": "stdout",
     "output_type": "stream",
     "text": [
      "近    日    ，    位    于    江    苏    的    江    苏    精    研    股    份    有    限    公    司    （    以\n",
      "O     O     O     O     O     B-ORG I-ORG O     B-ORG I-ORG I-ORG I-ORG I-ORG I-ORG I-ORG I-ORG I-ORG I-ORG O     O     \n",
      "\n",
      "下    简    称    “    公    司    ”    ）    收    到    全    资    子    公    司    精    研    （    东    莞\n",
      "O     O     O     O     B-ORG I-ORG O     O     O     O     B-ORG I-ORG I-ORG I-ORG I-ORG O     O     O     B-ORG I-ORG \n",
      "\n",
      "）    科    技    发    展    有    限    公    司    （    以    下    简    称    “    东    莞    精    研    ”\n",
      "I-ORG I-ORG I-ORG I-ORG I-ORG I-ORG I-ORG I-ORG I-ORG O     O     O     O     O     O     B-LOC I-LOC O     O     O     \n",
      "\n",
      "）    通    知    ，    东    莞    精    研    变    更    了    其    经    营    范    围    ，    履    行    了\n",
      "O     O     O     O     B-LOC I-LOC O     O     O     O     O     O     O     O     O     O     O     O     O     O     \n",
      "\n",
      "工    商    变    更    登    记    手    续    ，    并    取    得    了    东    莞    市    工    商    行    政\n",
      "O     O     O     O     O     O     O     O     O     O     O     O     O     B-ORG I-ORG I-ORG I-ORG I-ORG I-ORG I-ORG \n",
      "\n",
      "管    理    局    换    发    的    《    营    业    执    照    》    。\n",
      "I-ORG I-ORG I-ORG O     O     O     O     O     O     O     O     O     O     \n",
      "\n"
     ]
    }
   ],
   "source": [
    "with tf.device(\"/cpu:0\"):\n",
    "    to_test = '近日，位于江苏的江苏精研股份有限公司（以下简称“公司”）收到全资子公司精研（东莞）科技发展有限公司（以下简称“东莞精研”）通知，东莞精研变更了其经营范围，履行了工商变更登记手续，并取得了东莞市工商行政管理局换发的《营业执照》。'\n",
    "    ret = test_sentences(to_test, _model, _word_tokenizer, _index_pos)\n",
    "    # pretty_ner(to_test, ret)\n",
    "    output(to_test, ret)"
   ]
  }
 ],
 "metadata": {
  "kernelspec": {
   "display_name": "Python 3",
   "language": "python",
   "name": "python3"
  },
  "language_info": {
   "codemirror_mode": {
    "name": "ipython",
    "version": 3
   },
   "file_extension": ".py",
   "mimetype": "text/x-python",
   "name": "python",
   "nbconvert_exporter": "python",
   "pygments_lexer": "ipython3",
   "version": "3.6.4"
  }
 },
 "nbformat": 4,
 "nbformat_minor": 2
}
