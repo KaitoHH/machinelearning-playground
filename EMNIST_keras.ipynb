{
 "cells": [
  {
   "cell_type": "code",
   "execution_count": 19,
   "metadata": {},
   "outputs": [],
   "source": [
    "from keras.models import Sequential\n",
    "from keras.layers import Dense, Dropout, Flatten\n",
    "from keras.layers import Conv2D, MaxPooling2D\n",
    "import keras as ks\n",
    "import numpy as np\n",
    "import pandas as pd"
   ]
  },
  {
   "cell_type": "code",
   "execution_count": 11,
   "metadata": {},
   "outputs": [
    {
     "name": "stdout",
     "output_type": "stream",
     "text": [
      "(112800, 784)\n",
      "(112800, 47)\n",
      "(18800, 784)\n",
      "(18800, 47)\n"
     ]
    }
   ],
   "source": [
    "train_data_filename = 'EMNIST_data/emnist-balanced-train.csv'\n",
    "test_data_filename = 'EMNIST_data/emnist-balanced-test.csv'\n",
    "raw_train_data = pd.read_csv(train_data_filename, header=None).values\n",
    "raw_test_data = pd.read_csv(test_data_filename, header=None).values\n",
    "\n",
    "num_classes = 47\n",
    "eye = np.eye(classes)\n",
    "x_train, y_train = raw_train_data[:, 1:].astype(np.float32), eye[raw_train_data[:, :1].ravel()]\n",
    "x_test, y_test = raw_test_data[:, 1:].astype(np.float32), eye[raw_test_data[:, :1].ravel()]\n",
    "\n",
    "\n",
    "x_train = x_train.reshape(x_train.shape[0], 28, 28, 1)\n",
    "x_test = x_test.reshape(x_test.shape[0], 28, 28, 1)\n",
    "print(x_train.shape, x_test.shape)\n",
    "\n",
    "x_train /= 255.0\n",
    "x_test /= 255.0"
   ]
  },
  {
   "cell_type": "code",
   "execution_count": 37,
   "metadata": {},
   "outputs": [],
   "source": [
    "model = Sequential()\n",
    "model.add(Conv2D(32, kernel_size=(3, 3),\n",
    "                 activation='relu',\n",
    "                 input_shape=(28, 28, 1)))\n",
    "model.add(Conv2D(64, (3, 3), activation='relu'))\n",
    "model.add(MaxPooling2D(pool_size=(2, 2)))\n",
    "model.add(Dropout(0.25))\n",
    "model.add(Flatten())\n",
    "model.add(Dense(128, activation='relu'))\n",
    "model.add(Dropout(0.5))\n",
    "model.add(Dense(num_classes, activation='softmax'))\n",
    "\n",
    "model.compile(loss=ks.losses.categorical_crossentropy,\n",
    "              optimizer=ks.optimizers.Adadelta(),\n",
    "              metrics=['accuracy'])"
   ]
  },
  {
   "cell_type": "code",
   "execution_count": 42,
   "metadata": {},
   "outputs": [
    {
     "name": "stdout",
     "output_type": "stream",
     "text": [
      "Train on 112800 samples, validate on 18800 samples\n",
      "Epoch 1/20\n",
      "112800/112800 [==============================] - 611s 5ms/step - loss: 0.6527 - acc: 0.7920 - val_loss: 0.4606 - val_acc: 0.8480\n",
      "Epoch 2/20\n",
      "112800/112800 [==============================] - 614s 5ms/step - loss: 0.5640 - acc: 0.8174 - val_loss: 0.4297 - val_acc: 0.8524\n",
      "Epoch 3/20\n",
      "112800/112800 [==============================] - 531s 5ms/step - loss: 0.5187 - acc: 0.8286 - val_loss: 0.4207 - val_acc: 0.8597\n",
      "Epoch 4/20\n",
      "112800/112800 [==============================] - 532s 5ms/step - loss: 0.4850 - acc: 0.8382 - val_loss: 0.4270 - val_acc: 0.8566\n",
      "Epoch 5/20\n",
      "112800/112800 [==============================] - 534s 5ms/step - loss: 0.4651 - acc: 0.8453 - val_loss: 0.3907 - val_acc: 0.8670\n",
      "Epoch 6/20\n",
      "112800/112800 [==============================] - 542s 5ms/step - loss: 0.4444 - acc: 0.8513 - val_loss: 0.4011 - val_acc: 0.8648\n",
      "Epoch 7/20\n",
      "112800/112800 [==============================] - 541s 5ms/step - loss: 0.4308 - acc: 0.8544 - val_loss: 0.3873 - val_acc: 0.8712\n",
      "Epoch 8/20\n",
      "112800/112800 [==============================] - 516s 5ms/step - loss: 0.4198 - acc: 0.8586 - val_loss: 0.4006 - val_acc: 0.8671\n",
      "Epoch 9/20\n",
      "112800/112800 [==============================] - 528s 5ms/step - loss: 0.4094 - acc: 0.8619 - val_loss: 0.3740 - val_acc: 0.8714\n",
      "Epoch 10/20\n",
      "112800/112800 [==============================] - 528s 5ms/step - loss: 0.4032 - acc: 0.8630 - val_loss: 0.3697 - val_acc: 0.8745\n",
      "Epoch 11/20\n",
      "112800/112800 [==============================] - 536s 5ms/step - loss: 0.3983 - acc: 0.8653 - val_loss: 0.3754 - val_acc: 0.8760\n",
      "Epoch 12/20\n",
      "112800/112800 [==============================] - 578s 5ms/step - loss: 0.3905 - acc: 0.8671 - val_loss: 0.3821 - val_acc: 0.8778\n",
      "Epoch 13/20\n",
      "112800/112800 [==============================] - 673s 6ms/step - loss: 0.3873 - acc: 0.8692 - val_loss: 0.3706 - val_acc: 0.8757\n",
      "Epoch 14/20\n",
      "112800/112800 [==============================] - 595s 5ms/step - loss: 0.3849 - acc: 0.8687 - val_loss: 0.3835 - val_acc: 0.8774\n",
      "Epoch 15/20\n",
      "112800/112800 [==============================] - 543s 5ms/step - loss: 0.3768 - acc: 0.8709 - val_loss: 0.3714 - val_acc: 0.8778\n",
      "Epoch 16/20\n",
      "112800/112800 [==============================] - 551s 5ms/step - loss: 0.3731 - acc: 0.8728 - val_loss: 0.3665 - val_acc: 0.8803\n",
      "Epoch 17/20\n",
      "112800/112800 [==============================] - 584s 5ms/step - loss: 0.3708 - acc: 0.8743 - val_loss: 0.3693 - val_acc: 0.8786\n",
      "Epoch 18/20\n",
      "112800/112800 [==============================] - 553s 5ms/step - loss: 0.3685 - acc: 0.8735 - val_loss: 0.3651 - val_acc: 0.8776\n",
      "Epoch 19/20\n",
      "112800/112800 [==============================] - 564s 5ms/step - loss: 0.3660 - acc: 0.8750 - val_loss: 0.3633 - val_acc: 0.8784\n",
      "Epoch 20/20\n",
      "112800/112800 [==============================] - 606s 5ms/step - loss: 0.3644 - acc: 0.8758 - val_loss: 0.3952 - val_acc: 0.8786\n"
     ]
    },
    {
     "data": {
      "text/plain": [
       "<keras.callbacks.History at 0x1b22c3f21d0>"
      ]
     },
     "execution_count": 42,
     "metadata": {},
     "output_type": "execute_result"
    }
   ],
   "source": [
    "model.fit(x_train, y_train,\n",
    "          batch_size=128,\n",
    "          epochs=20,\n",
    "          verbose=1,\n",
    "          validation_data=(x_test, y_test))"
   ]
  },
  {
   "cell_type": "code",
   "execution_count": 43,
   "metadata": {},
   "outputs": [
    {
     "name": "stdout",
     "output_type": "stream",
     "text": [
      "Test loss: 0.39517347572331735\n",
      "Test accuracy: 0.878563829787234\n"
     ]
    }
   ],
   "source": [
    "score = model.evaluate(x_test, y_test, verbose=0)\n",
    "print('Test loss:', score[0])\n",
    "print('Test accuracy:', score[1])"
   ]
  },
  {
   "cell_type": "code",
   "execution_count": 44,
   "metadata": {},
   "outputs": [
    {
     "name": "stdout",
     "output_type": "stream",
     "text": [
      "_________________________________________________________________\n",
      "Layer (type)                 Output Shape              Param #   \n",
      "=================================================================\n",
      "conv2d_17 (Conv2D)           (None, 26, 26, 32)        320       \n",
      "_________________________________________________________________\n",
      "conv2d_18 (Conv2D)           (None, 24, 24, 64)        18496     \n",
      "_________________________________________________________________\n",
      "max_pooling2d_6 (MaxPooling2 (None, 12, 12, 64)        0         \n",
      "_________________________________________________________________\n",
      "dropout_11 (Dropout)         (None, 12, 12, 64)        0         \n",
      "_________________________________________________________________\n",
      "flatten_6 (Flatten)          (None, 9216)              0         \n",
      "_________________________________________________________________\n",
      "dense_10 (Dense)             (None, 128)               1179776   \n",
      "_________________________________________________________________\n",
      "dropout_12 (Dropout)         (None, 128)               0         \n",
      "_________________________________________________________________\n",
      "dense_11 (Dense)             (None, 47)                6063      \n",
      "=================================================================\n",
      "Total params: 1,204,655\n",
      "Trainable params: 1,204,655\n",
      "Non-trainable params: 0\n",
      "_________________________________________________________________\n"
     ]
    }
   ],
   "source": [
    "# save model\n",
    "model.save('model/emnist.h5')\n",
    "model.summary()"
   ]
  }
 ],
 "metadata": {
  "kernelspec": {
   "display_name": "Python 3",
   "language": "python",
   "name": "python3"
  },
  "language_info": {
   "codemirror_mode": {
    "name": "ipython",
    "version": 3
   },
   "file_extension": ".py",
   "mimetype": "text/x-python",
   "name": "python",
   "nbconvert_exporter": "python",
   "pygments_lexer": "ipython3",
   "version": "3.6.4"
  }
 },
 "nbformat": 4,
 "nbformat_minor": 2
}
